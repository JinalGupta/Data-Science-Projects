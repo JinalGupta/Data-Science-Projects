{
 "cells": [
  {
   "cell_type": "code",
   "execution_count": 1,
   "id": "6010878e",
   "metadata": {},
   "outputs": [],
   "source": [
    "#Example of class method\n",
    "class pwskills:\n",
    "    def __init__(self, name,email):\n",
    "        self.name = name\n",
    "        self.email = email\n",
    "    def students_details(self):#Class method\n",
    "        print(self.name,self.email)"
   ]
  },
  {
   "cell_type": "code",
   "execution_count": 2,
   "id": "9cfe6004",
   "metadata": {},
   "outputs": [],
   "source": [
    "pw = pwskills(\"Mohan\",\"mohan@gmail.com\")"
   ]
  },
  {
   "cell_type": "code",
   "execution_count": 3,
   "id": "f284c3c8",
   "metadata": {},
   "outputs": [
    {
     "data": {
      "text/plain": [
       "'Mohan'"
      ]
     },
     "execution_count": 3,
     "metadata": {},
     "output_type": "execute_result"
    }
   ],
   "source": [
    "pw.name"
   ]
  },
  {
   "cell_type": "code",
   "execution_count": 4,
   "id": "2fe4a14a",
   "metadata": {},
   "outputs": [
    {
     "data": {
      "text/plain": [
       "'mohan@gmail.com'"
      ]
     },
     "execution_count": 4,
     "metadata": {},
     "output_type": "execute_result"
    }
   ],
   "source": [
    "pw.email"
   ]
  },
  {
   "cell_type": "code",
   "execution_count": 5,
   "id": "f2cc9c80",
   "metadata": {},
   "outputs": [
    {
     "name": "stdout",
     "output_type": "stream",
     "text": [
      "Mohan mohan@gmail.com\n"
     ]
    }
   ],
   "source": [
    "pw.students_details()"
   ]
  },
  {
   "cell_type": "code",
   "execution_count": 6,
   "id": "8e8d5a82",
   "metadata": {},
   "outputs": [],
   "source": [
    "class pwskills1:\n",
    "    def __init__(self,name,email):\n",
    "        self.name = name\n",
    "        self.email = email\n",
    "    @classmethod#Decorating the class details with the class method\n",
    "    def details(cls,name,email):\n",
    "        return cls(name,email)\n",
    "    def students_details(self):\n",
    "        print(self.name,self.email)"
   ]
  },
  {
   "cell_type": "code",
   "execution_count": 7,
   "id": "eea38740",
   "metadata": {},
   "outputs": [],
   "source": [
    "pw1 = pwskills1.details(\"sudh\",\"sudh@gmail.com\")#We overloaded the init method even without creating an object"
   ]
  },
  {
   "cell_type": "code",
   "execution_count": 8,
   "id": "e5cf013b",
   "metadata": {},
   "outputs": [
    {
     "data": {
      "text/plain": [
       "'sudh'"
      ]
     },
     "execution_count": 8,
     "metadata": {},
     "output_type": "execute_result"
    }
   ],
   "source": [
    "pw1.name"
   ]
  },
  {
   "cell_type": "code",
   "execution_count": 9,
   "id": "6385fb34",
   "metadata": {},
   "outputs": [
    {
     "data": {
      "text/plain": [
       "'sudh@gmail.com'"
      ]
     },
     "execution_count": 9,
     "metadata": {},
     "output_type": "execute_result"
    }
   ],
   "source": [
    "pw1.email"
   ]
  },
  {
   "cell_type": "code",
   "execution_count": 10,
   "id": "4554b02d",
   "metadata": {},
   "outputs": [],
   "source": [
    "class pwskills2:\n",
    "    mobile_num = 8927261821\n",
    "    \n",
    "    def __init__(self,name,email):\n",
    "        self.name = name\n",
    "        self.email = email\n",
    "    @classmethod\n",
    "    def change_numbers(cls,mobile):\n",
    "        pwskills2.mobile_num = mobile\n",
    "    @classmethod\n",
    "    def details(cls,name,email):\n",
    "        return cls(name,email)\n",
    "    def students_details(self):\n",
    "        print(self.name,self.email,pwskills2.mobile_num)#To access the mobile number directly from the students detils class"
   ]
  },
  {
   "cell_type": "code",
   "execution_count": 11,
   "id": "c9713eb5",
   "metadata": {},
   "outputs": [
    {
     "data": {
      "text/plain": [
       "8927261821"
      ]
     },
     "execution_count": 11,
     "metadata": {},
     "output_type": "execute_result"
    }
   ],
   "source": [
    "pwskills2.mobile_num"
   ]
  },
  {
   "cell_type": "code",
   "execution_count": 12,
   "id": "1977b60d",
   "metadata": {},
   "outputs": [],
   "source": [
    "pwskills2.change_numbers(9382361900)"
   ]
  },
  {
   "cell_type": "code",
   "execution_count": 13,
   "id": "f0543b9c",
   "metadata": {},
   "outputs": [
    {
     "data": {
      "text/plain": [
       "9382361900"
      ]
     },
     "execution_count": 13,
     "metadata": {},
     "output_type": "execute_result"
    }
   ],
   "source": [
    "pwskills2.mobile_num"
   ]
  },
  {
   "cell_type": "code",
   "execution_count": 14,
   "id": "b5619b1f",
   "metadata": {},
   "outputs": [],
   "source": [
    "#Method - 1(To access the mobile number directly from the class)(By creating an object)\n",
    "pw_obj = pwskills2(\"Jinal\",\"jinalbirla@gmail.com\")"
   ]
  },
  {
   "cell_type": "code",
   "execution_count": 15,
   "id": "d89baeaf",
   "metadata": {},
   "outputs": [
    {
     "name": "stdout",
     "output_type": "stream",
     "text": [
      "Jinal jinalbirla@gmail.com 9382361900\n"
     ]
    }
   ],
   "source": [
    "pw_obj.students_details()"
   ]
  },
  {
   "cell_type": "code",
   "execution_count": 16,
   "id": "5202743b",
   "metadata": {},
   "outputs": [],
   "source": [
    "#Method - 2(To access the mobile number directly from the students details class by creating a variable of the class method)\n",
    "pw = pwskills2.details(\"Jinal\",\"jinal@gmail.com\")"
   ]
  },
  {
   "cell_type": "code",
   "execution_count": 17,
   "id": "80044443",
   "metadata": {},
   "outputs": [
    {
     "name": "stdout",
     "output_type": "stream",
     "text": [
      "Jinal jinal@gmail.com 9382361900\n"
     ]
    }
   ],
   "source": [
    "pw.students_details()"
   ]
  },
  {
   "cell_type": "code",
   "execution_count": 18,
   "id": "06d13599",
   "metadata": {},
   "outputs": [],
   "source": [
    "class pwskills3:\n",
    "    mobile_num = 8927261821\n",
    "    \n",
    "    def __init__(self,name,email):\n",
    "        self.name = name\n",
    "        self.email = email\n",
    "    @classmethod\n",
    "    def change_numbers(cls,mobile):\n",
    "        pwskills2.mobile_num = mobile\n",
    "    @classmethod\n",
    "    def details(cls,name,email):\n",
    "        return cls(name,email)\n",
    "    def students_details(self):\n",
    "        print(self.name,self.email,pwskills2.mobile_num)"
   ]
  },
  {
   "cell_type": "code",
   "execution_count": 19,
   "id": "74592207",
   "metadata": {},
   "outputs": [],
   "source": [
    "def course_details(cls,course_name):#Adding this external function into the main funtion pwskills3\n",
    "    print(\"Course name is\", course_name)"
   ]
  },
  {
   "cell_type": "code",
   "execution_count": 20,
   "id": "54ca9a27",
   "metadata": {},
   "outputs": [],
   "source": [
    "pwskills3.course_details = classmethod(course_details)#Using the classmethod function to get course details function in pwskills3"
   ]
  },
  {
   "cell_type": "code",
   "execution_count": 21,
   "id": "319bbfc2",
   "metadata": {},
   "outputs": [
    {
     "name": "stdout",
     "output_type": "stream",
     "text": [
      "Course name is Data Science Masters\n"
     ]
    }
   ],
   "source": [
    "pwskills3.course_details(\"Data Science Masters\")#The power of classmethod is that we can associate extarenal function with a class"
   ]
  },
  {
   "cell_type": "code",
   "execution_count": 22,
   "id": "8b77d252",
   "metadata": {},
   "outputs": [],
   "source": [
    "def mentor(cls,list_of_mentors):\n",
    "    print(list_of_mentors)"
   ]
  },
  {
   "cell_type": "code",
   "execution_count": 23,
   "id": "5fa63dea",
   "metadata": {},
   "outputs": [],
   "source": [
    "pwskills3.mentor = classmethod(mentor)"
   ]
  },
  {
   "cell_type": "code",
   "execution_count": 24,
   "id": "7b4dd6f0",
   "metadata": {},
   "outputs": [
    {
     "name": "stdout",
     "output_type": "stream",
     "text": [
      "Sudhanshu\n"
     ]
    }
   ],
   "source": [
    "pwskills3.mentor(\"Sudhanshu\")"
   ]
  },
  {
   "cell_type": "code",
   "execution_count": 25,
   "id": "d5fc67c6",
   "metadata": {},
   "outputs": [],
   "source": [
    "class pwskills4:\n",
    "    mobile_num = 8927261821\n",
    "    \n",
    "    def __init__(self,name,email):\n",
    "        self.name = name\n",
    "        self.email = email\n",
    "    @classmethod\n",
    "    def change_numbers(cls,mobile):\n",
    "        pwskills2.mobile_num = mobile\n",
    "    @classmethod\n",
    "    def details(cls,name,email):\n",
    "        return cls(name,email)\n",
    "    def students_details(self):\n",
    "        print(self.name,self.email,pwskills2.mobile_num)"
   ]
  },
  {
   "cell_type": "code",
   "execution_count": 26,
   "id": "8602a8e8",
   "metadata": {},
   "outputs": [],
   "source": [
    "del pwskills4.change_numbers   #Deleting a class function"
   ]
  },
  {
   "cell_type": "code",
   "execution_count": 27,
   "id": "2b30b700",
   "metadata": {},
   "outputs": [
    {
     "ename": "AttributeError",
     "evalue": "type object 'pwskills4' has no attribute 'change_numbers'",
     "output_type": "error",
     "traceback": [
      "\u001b[1;31m---------------------------------------------------------------------------\u001b[0m",
      "\u001b[1;31mAttributeError\u001b[0m                            Traceback (most recent call last)",
      "Cell \u001b[1;32mIn[27], line 1\u001b[0m\n\u001b[1;32m----> 1\u001b[0m \u001b[43mpwskills4\u001b[49m\u001b[38;5;241;43m.\u001b[39;49m\u001b[43mchange_numbers\u001b[49m(\u001b[38;5;241m938203823\u001b[39m)\n",
      "\u001b[1;31mAttributeError\u001b[0m: type object 'pwskills4' has no attribute 'change_numbers'"
     ]
    }
   ],
   "source": [
    "pwskills4.change_numbers(938203823)#The error shows that there is no attribute class named as change_numbers"
   ]
  },
  {
   "cell_type": "code",
   "execution_count": 28,
   "id": "fc096c38",
   "metadata": {},
   "outputs": [],
   "source": [
    "delattr(pwskills4, \"students_details\")"
   ]
  },
  {
   "cell_type": "code",
   "execution_count": 29,
   "id": "eb29fb26",
   "metadata": {},
   "outputs": [
    {
     "ename": "AttributeError",
     "evalue": "type object 'pwskills4' has no attribute 'students_details'",
     "output_type": "error",
     "traceback": [
      "\u001b[1;31m---------------------------------------------------------------------------\u001b[0m",
      "\u001b[1;31mAttributeError\u001b[0m                            Traceback (most recent call last)",
      "Cell \u001b[1;32mIn[29], line 1\u001b[0m\n\u001b[1;32m----> 1\u001b[0m \u001b[43mpwskills4\u001b[49m\u001b[38;5;241;43m.\u001b[39;49m\u001b[43mstudents_details\u001b[49m()\n",
      "\u001b[1;31mAttributeError\u001b[0m: type object 'pwskills4' has no attribute 'students_details'"
     ]
    }
   ],
   "source": [
    "pwskills4.students_details()#Deleted the function which was not a classmethod directly"
   ]
  },
  {
   "cell_type": "code",
   "execution_count": 30,
   "id": "dcfc3d3e",
   "metadata": {},
   "outputs": [],
   "source": [
    "delattr(pwskills4, \"mobile_num\")"
   ]
  },
  {
   "cell_type": "code",
   "execution_count": 31,
   "id": "ca53307f",
   "metadata": {},
   "outputs": [
    {
     "ename": "AttributeError",
     "evalue": "type object 'pwskills4' has no attribute 'mobile_num'",
     "output_type": "error",
     "traceback": [
      "\u001b[1;31m---------------------------------------------------------------------------\u001b[0m",
      "\u001b[1;31mAttributeError\u001b[0m                            Traceback (most recent call last)",
      "Cell \u001b[1;32mIn[31], line 1\u001b[0m\n\u001b[1;32m----> 1\u001b[0m \u001b[43mpwskills4\u001b[49m\u001b[38;5;241;43m.\u001b[39;49m\u001b[43mmobile_num\u001b[49m()\n",
      "\u001b[1;31mAttributeError\u001b[0m: type object 'pwskills4' has no attribute 'mobile_num'"
     ]
    }
   ],
   "source": [
    "pwskills4.mobile_num()#Deleted the class variable from the class pwskills4"
   ]
  }
 ],
 "metadata": {
  "kernelspec": {
   "display_name": "Python 3 (ipykernel)",
   "language": "python",
   "name": "python3"
  },
  "language_info": {
   "codemirror_mode": {
    "name": "ipython",
    "version": 3
   },
   "file_extension": ".py",
   "mimetype": "text/x-python",
   "name": "python",
   "nbconvert_exporter": "python",
   "pygments_lexer": "ipython3",
   "version": "3.10.9"
  }
 },
 "nbformat": 4,
 "nbformat_minor": 5
}
