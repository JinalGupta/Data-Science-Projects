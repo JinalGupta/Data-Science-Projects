{
 "cells": [
  {
   "cell_type": "markdown",
   "id": "6644223a",
   "metadata": {},
   "source": [
    "Q1. Create a function which will take a list as an argument and return the product of all the numbers after creating a flat list.\n",
    "Use the below-given list as an argument for your function.\n",
    "list1 = [1,2,3,4,[44,55,66,True],False, (34, 56, 78, 89, 34), {1,2,3,3,2,1},{1:34, \"key2\": [55,67,78,89], 4 : (45, 22, 61, 34)}, [56, 'data science'],'Machine Learning']\n",
    "Note: you must extract numeric keys and values of the dictionary also."
   ]
  },
  {
   "cell_type": "code",
   "execution_count": 1,
   "id": "efb2db6c",
   "metadata": {},
   "outputs": [
    {
     "data": {
      "text/plain": [
       "[1,\n",
       " 2,\n",
       " 3,\n",
       " 4,\n",
       " [44, 55, 66, True],\n",
       " False,\n",
       " (34, 56, 78, 89, 34),\n",
       " {1, 2, 3},\n",
       " {1: 34, 'key2': [55, 67, 78, 89], 4: (45, 22, 61, 34)},\n",
       " [56, 'data science'],\n",
       " 'Machine Learning']"
      ]
     },
     "execution_count": 1,
     "metadata": {},
     "output_type": "execute_result"
    }
   ],
   "source": [
    "list1 = [1,2,3,4,[44,55,66,True],False, (34, 56, 78, 89, 34), {1,2,3,3,2,1},{1:34, \"key2\": [55,67,78,89], 4 : (45, 22, 61, 34)}, [56, 'data science'],'Machine Learning'] \n",
    "list1"
   ]
  },
  {
   "cell_type": "code",
   "execution_count": 2,
   "id": "4d20c5ff",
   "metadata": {},
   "outputs": [
    {
     "name": "stdout",
     "output_type": "stream",
     "text": [
      "4134711838987085478833841242112000\n"
     ]
    }
   ],
   "source": [
    "def is_int(x):\n",
    "    return type(x) == int\n",
    "\n",
    "def is_list(x):\n",
    "    return type(x) == list\n",
    "\n",
    "def is_tuple(x):\n",
    "    return type(x) == tuple\n",
    "\n",
    "def is_set(x):\n",
    "    return type(x) == set\n",
    "\n",
    "def is_dict(x):\n",
    "    return type(x) == dict\n",
    "\n",
    "def flatten_list(a):\n",
    "    flat_list = []\n",
    "\n",
    "    for i in a:\n",
    "        if is_list(i):\n",
    "            for j in i:\n",
    "                if is_int(j):\n",
    "                    flat_list.append(j)\n",
    "        elif is_tuple(i):\n",
    "            for k in i:\n",
    "                if is_int(k):\n",
    "                    flat_list.append(k)\n",
    "        elif is_set(i):\n",
    "            for m in i:\n",
    "                if is_int(m):\n",
    "                    flat_list.append(m)\n",
    "        elif is_dict(i):\n",
    "            for n in i:\n",
    "                p = i[n]\n",
    "                if is_int(n):\n",
    "                    flat_list.append(n)\n",
    "                if is_int(p):\n",
    "                    flat_list.append(p)\n",
    "                elif is_list(p) or is_tuple(p):\n",
    "                    for x in p:\n",
    "                        if is_int(x):\n",
    "                            flat_list.append(x)\n",
    "        elif is_int(i):\n",
    "            flat_list.append(i)\n",
    "\n",
    "    return flat_list\n",
    "\n",
    "def product_of_numbers(lst):\n",
    "    flat_list = flatten_list(lst)\n",
    "    product = 1\n",
    "    for num in flat_list:\n",
    "        product *= num\n",
    "    return product\n",
    "\n",
    "list1 = [1, 2, 3, 4, [44, 55, 66, True], False, (34, 56, 78, 89, 34), {1, 2, 3, 3, 2, 1}, \n",
    "         {1: 34, \"key2\": [55, 67, 78, 89], 4: (45, 22, 61, 34)}, [56, 'data science'], 'Machine Learning']\n",
    "\n",
    "print(product_of_numbers(list1))\n"
   ]
  },
  {
   "cell_type": "markdown",
   "id": "0e910e29",
   "metadata": {},
   "source": [
    "Q2. Write a python program for encrypting a message sent to you by your friend. The logic of encryption\n",
    "should be such that, for a the output should be z. For b, the output should be y. For c, the output should\n",
    "be x respectively. Also, the whitespace should be replaced with a dollar sign. Keep the punctuation\n",
    "marks unchanged.\n",
    "Input Sentence: I want to become a Data Scientist.\n",
    "Encrypt the above input sentence using the program you just created.\n",
    "Note: Convert the given input sentence into lowercase before encrypting. The final output should be\n",
    "lowercase."
   ]
  },
  {
   "cell_type": "code",
   "execution_count": 3,
   "id": "6c3e480f",
   "metadata": {},
   "outputs": [
    {
     "name": "stdout",
     "output_type": "stream",
     "text": [
      "Enter the message to be encrypted: I want to become a Data Scientist\n",
      "Encrypted message: r$dzmg$gl$yvxlnv$z$wzgz$hxrvmgrhg\n"
     ]
    }
   ],
   "source": [
    "def encrypt_message(message):\n",
    "    encrypted_message = \"\"\n",
    "    for char in message:\n",
    "        if char.isalpha():\n",
    "            encrypted_char = chr(219 - ord(char))  # 219 = 'a' + 'z'\n",
    "            encrypted_message += encrypted_char\n",
    "        elif char == ' ':\n",
    "            encrypted_message += '$'\n",
    "        else:\n",
    "            encrypted_message += char\n",
    "    return encrypted_message\n",
    "\n",
    "# Input sentence\n",
    "input_sentence = input(\"Enter the message to be encrypted: \")\n",
    "\n",
    "# Convert the input sentence to lowercase\n",
    "input_sentence = input_sentence.lower()\n",
    "\n",
    "# Encrypt the input sentence\n",
    "encrypted_sentence = encrypt_message(input_sentence)\n",
    "\n",
    "# Print the encrypted sentence\n",
    "print(\"Encrypted message:\", encrypted_sentence)\n"
   ]
  }
 ],
 "metadata": {
  "kernelspec": {
   "display_name": "Python 3 (ipykernel)",
   "language": "python",
   "name": "python3"
  },
  "language_info": {
   "codemirror_mode": {
    "name": "ipython",
    "version": 3
   },
   "file_extension": ".py",
   "mimetype": "text/x-python",
   "name": "python",
   "nbconvert_exporter": "python",
   "pygments_lexer": "ipython3",
   "version": "3.10.9"
  }
 },
 "nbformat": 4,
 "nbformat_minor": 5
}
