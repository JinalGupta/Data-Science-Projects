{
 "cells": [
  {
   "cell_type": "markdown",
   "id": "a6fa7288",
   "metadata": {},
   "source": [
    "# Encapsulation Example:"
   ]
  },
  {
   "cell_type": "code",
   "execution_count": 1,
   "id": "0104e574",
   "metadata": {},
   "outputs": [],
   "source": [
    "class bank_account:\n",
    "    \n",
    "    def __init__(self, balance):#Creating a constructor function which takes the input as balance of the bank account\n",
    "        self.__balance = balance#Encapsulating the balance from the user which can be only entered once after that only withdrawal and deposit can happen\n",
    "    \n",
    "    def deposit(self, amount):#function for depositing a desired amount in your balance \n",
    "        self.__balance = self.__balance + amount\n",
    "        \n",
    "    def withdraw(self, amount):#function for withdrawal of a certain amount of balance only when the amount is less than the balance of the account \n",
    "        if self.__balance >= amount:\n",
    "            self.__balance = self.__balance - amount\n",
    "            return True\n",
    "        else :\n",
    "            return False\n",
    "    \n",
    "    def get_balance(self):#Function to check the balance of the account \n",
    "        return self.__balance"
   ]
  },
  {
   "cell_type": "code",
   "execution_count": 2,
   "id": "bbb878b9",
   "metadata": {},
   "outputs": [],
   "source": [
    "John = bank_account(20000)#Initial amount in the bank account"
   ]
  },
  {
   "cell_type": "code",
   "execution_count": 3,
   "id": "4c331d95",
   "metadata": {},
   "outputs": [],
   "source": [
    "John.deposit(2000)#Deposting a required sum of amount"
   ]
  },
  {
   "cell_type": "code",
   "execution_count": 4,
   "id": "0ab720cf",
   "metadata": {},
   "outputs": [
    {
     "data": {
      "text/plain": [
       "22000"
      ]
     },
     "execution_count": 4,
     "metadata": {},
     "output_type": "execute_result"
    }
   ],
   "source": [
    "John.get_balance()"
   ]
  },
  {
   "cell_type": "code",
   "execution_count": 5,
   "id": "a7501bcb",
   "metadata": {},
   "outputs": [
    {
     "data": {
      "text/plain": [
       "True"
      ]
     },
     "execution_count": 5,
     "metadata": {},
     "output_type": "execute_result"
    }
   ],
   "source": [
    "John.withdraw(300)#withdrawing the amount required which is only possible when the amount to be withdrawed is less than the amount present in bank account "
   ]
  },
  {
   "cell_type": "code",
   "execution_count": 6,
   "id": "21b2d299",
   "metadata": {},
   "outputs": [
    {
     "data": {
      "text/plain": [
       "21700"
      ]
     },
     "execution_count": 6,
     "metadata": {},
     "output_type": "execute_result"
    }
   ],
   "source": [
    "John.get_balance()#Checking for the balance in the account after withdrawal of the amount "
   ]
  }
 ],
 "metadata": {
  "kernelspec": {
   "display_name": "Python 3 (ipykernel)",
   "language": "python",
   "name": "python3"
  },
  "language_info": {
   "codemirror_mode": {
    "name": "ipython",
    "version": 3
   },
   "file_extension": ".py",
   "mimetype": "text/x-python",
   "name": "python",
   "nbconvert_exporter": "python",
   "pygments_lexer": "ipython3",
   "version": "3.10.9"
  }
 },
 "nbformat": 4,
 "nbformat_minor": 5
}
