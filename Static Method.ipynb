{
 "cells": [
  {
   "cell_type": "code",
   "execution_count": 1,
   "id": "001e2e72",
   "metadata": {},
   "outputs": [],
   "source": [
    "class pwskills1:\n",
    "    def students_details(self,name,mail_id,number):#To call this function we need to create an object because this function is associated with the instance of the main class\n",
    "        print(name,mail_id,number)\n",
    "    \n",
    "    @staticmethod\n",
    "    def mentor_class(list_mentor):\n",
    "        print(list_mentor)\n",
    "        \n",
    "    def mentor(self,mentor_list):\n",
    "        print(mentor_list)"
   ]
  },
  {
   "cell_type": "code",
   "execution_count": 2,
   "id": "2c45eeca",
   "metadata": {},
   "outputs": [
    {
     "name": "stdout",
     "output_type": "stream",
     "text": [
      "['Jinal', 'Bhavika']\n"
     ]
    }
   ],
   "source": [
    "pwskills1.mentor_class([\"Jinal\",\"Bhavika\"])"
   ]
  },
  {
   "cell_type": "code",
   "execution_count": 3,
   "id": "c92d4fb5",
   "metadata": {},
   "outputs": [],
   "source": [
    "stu1 = pwskills1()#Creates a copy of the function students_details and creates new copy of the function everytime we want to add information about a new student"
   ]
  },
  {
   "cell_type": "code",
   "execution_count": 4,
   "id": "ef680900",
   "metadata": {},
   "outputs": [],
   "source": [
    "class pwskills2:\n",
    "    def students_details(self,name,mail_id,number):#To call this function we need to create an object because this function is associated with the instance of the main class\n",
    "        print(name,mail_id,number)\n",
    "    \n",
    "    @staticmethod\n",
    "    def mentor_class(list_mentor):\n",
    "        print(list_mentor)\n",
    "    \n",
    "    @classmethod#Calling staticmethod in classmethod\n",
    "    def class_name(cls):\n",
    "        cls.mentor_class([\"Jinal\",\"Bhavika\"])\n",
    "        \n",
    "    def mentor(self,mentor_list):\n",
    "        print(mentor_list)"
   ]
  },
  {
   "cell_type": "code",
   "execution_count": 5,
   "id": "455632a1",
   "metadata": {},
   "outputs": [
    {
     "name": "stdout",
     "output_type": "stream",
     "text": [
      "['Jinal', 'Bhavika']\n"
     ]
    }
   ],
   "source": [
    "pwskills2.class_name()"
   ]
  },
  {
   "cell_type": "code",
   "execution_count": 6,
   "id": "c807167a",
   "metadata": {},
   "outputs": [],
   "source": [
    "#To call a staticmethod from a different staticmethod\n",
    "class pwskills3:\n",
    "    def students_details(self,name,mail_id,number):#To call this function we need to create an object because this function is associated with the instance of the main class\n",
    "        print(name,mail_id,number)\n",
    "    \n",
    "    @staticmethod\n",
    "    def mentor_mail_id(mail_id_mentor):\n",
    "        print(mail_id_mentor)\n",
    "    \n",
    "    @staticmethod\n",
    "    def mentor_class(list_mentor):\n",
    "        pwskills3.mentor_mail_id([\"jinal@gmail.com\",\"bhavika@gmail.com\"])\n",
    "        print(list_mentor)\n",
    "    \n",
    "    @classmethod#Calling staticmethod in classmethod\n",
    "    def class_name(cls):\n",
    "        cls.mentor_class([\"Jinal\",\"Bhavika\"])\n",
    "        \n",
    "    def mentor(self,mentor_list):\n",
    "        print(mentor_list)"
   ]
  },
  {
   "cell_type": "code",
   "execution_count": 7,
   "id": "38a04707",
   "metadata": {},
   "outputs": [
    {
     "name": "stdout",
     "output_type": "stream",
     "text": [
      "['jinal@gmail.com', 'bhavika@gmail.com']\n",
      "['jinal', 'bhavika']\n"
     ]
    }
   ],
   "source": [
    "pwskills3.mentor_class([\"jinal\",\"bhavika\"])"
   ]
  },
  {
   "cell_type": "code",
   "execution_count": 8,
   "id": "5dbe6299",
   "metadata": {},
   "outputs": [],
   "source": [
    "#Now calling of the staticmethod from the instance method\n",
    "class pwskills4:\n",
    "    def students_details(self,name,mail_id,number):#To call this function we need to create an object because this function is associated with the instance of the main class\n",
    "        print(name,mail_id,number)\n",
    "    \n",
    "    @staticmethod\n",
    "    def mentor_mail_id(mail_id_mentor):\n",
    "        print(mail_id_mentor)\n",
    "    \n",
    "    @staticmethod\n",
    "    def mentor_class(list_mentor):\n",
    "        pwskills4.mentor_mail_id([\"jinal@gmail.com\",\"bhavika@gmail.com\"])\n",
    "        print(list_mentor)\n",
    "    \n",
    "    @classmethod#Calling staticmethod in classmethod\n",
    "    def class_name(cls):\n",
    "        cls.mentor_class([\"Jinal\",\"Bhavika\"])\n",
    "        \n",
    "    def mentor(self,mentor_list):\n",
    "        print(mentor_list)\n",
    "        self.mentor_class([\"jinal\",\"bhavika\"])"
   ]
  },
  {
   "cell_type": "code",
   "execution_count": 9,
   "id": "ca82c0fd",
   "metadata": {},
   "outputs": [],
   "source": [
    "pw = pwskills4()"
   ]
  },
  {
   "cell_type": "code",
   "execution_count": 10,
   "id": "bf26fdd4",
   "metadata": {},
   "outputs": [
    {
     "name": "stdout",
     "output_type": "stream",
     "text": [
      "['jinal', 'bhavika']\n",
      "['jinal@gmail.com', 'bhavika@gmail.com']\n",
      "['jinal', 'bhavika']\n"
     ]
    }
   ],
   "source": [
    "pw.mentor([\"jinal\",\"bhavika\"])"
   ]
  }
 ],
 "metadata": {
  "kernelspec": {
   "display_name": "Python 3 (ipykernel)",
   "language": "python",
   "name": "python3"
  },
  "language_info": {
   "codemirror_mode": {
    "name": "ipython",
    "version": 3
   },
   "file_extension": ".py",
   "mimetype": "text/x-python",
   "name": "python",
   "nbconvert_exporter": "python",
   "pygments_lexer": "ipython3",
   "version": "3.10.9"
  }
 },
 "nbformat": 4,
 "nbformat_minor": 5
}
