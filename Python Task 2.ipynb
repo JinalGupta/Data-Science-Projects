{
 "cells": [
  {
   "cell_type": "code",
   "execution_count": 1,
   "id": "18097549",
   "metadata": {},
   "outputs": [],
   "source": [
    "#Q1. You are writing code for a company. The requirement of the company is that you create a python\n",
    "#function that will check whether the password entered by the user is correct or not. The function should\n",
    "#take the password as input and return the string \"Valid Password\" if the entered password follows the\n",
    "#below-given password guidelines else it should return \"Invalid Password\".\n",
    "#Note: 1. The Password should contain at least two uppercase letters and at least two lowercase letters.\n",
    "#2. The Password should contain at least a number and three special characters.\n",
    "#3. The length of the password should be 10 characters long."
   ]
  },
  {
   "cell_type": "code",
   "execution_count": 2,
   "id": "3dc27f57",
   "metadata": {},
   "outputs": [],
   "source": [
    "def check_password(password):\n",
    "    \n",
    "    MIN_LENGTH = 10\n",
    "    MIN_UPPER = 2\n",
    "    MIN_LOWER = 2\n",
    "    MIN_NUMBER = 1\n",
    "    MIN_SPECIAL = 3\n",
    "\n",
    "    # Check password length\n",
    "    if len(password) < MIN_LENGTH:\n",
    "        print(\"Invalid Password: Password must be at least {MIN_LENGTH} characters long.\")\n",
    "\n",
    "    # Count character types\n",
    "    upper_count = 0\n",
    "    lower_count = 0\n",
    "    number_count = 0\n",
    "    special_count = 0\n",
    "    for char in password:\n",
    "        if 'A' <= char <= 'Z':\n",
    "            upper_count += 1\n",
    "        elif 'a' <= char <= 'z':\n",
    "            lower_count += 1\n",
    "        elif '0' <= char <= '9':\n",
    "            number_count += 1\n",
    "        else:\n",
    "            special_count += 1\n",
    "\n",
    "    # Check character type requirements\n",
    "    if upper_count < MIN_UPPER:\n",
    "        print(\"Invalid Password: Password must contain at least {MIN_UPPER} uppercase letters.\"\n",
    "                \" You have {upper_count}.\")\n",
    "    if lower_count < MIN_LOWER:\n",
    "        print (\"Invalid Password: Password must contain at least {MIN_LOWER} lowercase letters.\"\n",
    "                \" You have {lower_count}.\")\n",
    "    if number_count < MIN_NUMBER:\n",
    "        print (\"Invalid Password: Password must contain at least {MIN_NUMBER} number.\"\n",
    "                \" You have {number_count}.\")\n",
    "    if special_count < MIN_SPECIAL:\n",
    "        print (\"Invalid Password: Password must contain at least {MIN_SPECIAL} special characters.\"\n",
    "                \" You have {special_count}.\")\n",
    "\n",
    "    # Password is valid\n",
    "    print (\"Valid Password\")"
   ]
  },
  {
   "cell_type": "code",
   "execution_count": 3,
   "id": "c2713c2b",
   "metadata": {},
   "outputs": [
    {
     "name": "stdout",
     "output_type": "stream",
     "text": [
      "Valid Password\n"
     ]
    }
   ],
   "source": [
    "check_password(\"AAaa26!@2#\")"
   ]
  },
  {
   "cell_type": "code",
   "execution_count": 4,
   "id": "bcbe2463",
   "metadata": {},
   "outputs": [],
   "source": [
    "#Q2. Solve the below-given questions using at least one of the following:\n",
    "#1. Lambda function\n",
    "#2. Filter function\n",
    "#3. Map function\n",
    "#4. List Comprehension\n",
    "\n",
    "#Check if the string starts with a particular letter.\n",
    "#Check if the string is numeric.\n",
    "#Sort a list of tuples having fruit names and their quantity. [(\"mango\",99),(\"orange\",80), (\"grapes\", 1000)]\n",
    "#Find the squares of numbers from 1 to 10.\n",
    "#Find the cube root of numbers from 1 to IO.\n",
    "#Check if a given number is even.\n",
    "#Filter odd numbers from the given list.\n",
    "#Sort a list of integers into positive and negative integers lists."
   ]
  },
  {
   "cell_type": "markdown",
   "id": "08242cdb",
   "metadata": {},
   "source": [
    "LAMBDA FUNCTION"
   ]
  },
  {
   "cell_type": "markdown",
   "id": "f940a123",
   "metadata": {},
   "source": [
    "Check if the string starts with a particular letter"
   ]
  },
  {
   "cell_type": "code",
   "execution_count": 5,
   "id": "b595897f",
   "metadata": {},
   "outputs": [],
   "source": [
    "particular_letter = lambda a: \"String starts with H\" if a[0] in ['H', 'h'] else \"It does not start with a particular letter\""
   ]
  },
  {
   "cell_type": "code",
   "execution_count": 6,
   "id": "39058a18",
   "metadata": {},
   "outputs": [
    {
     "data": {
      "text/plain": [
       "'String starts with H'"
      ]
     },
     "execution_count": 6,
     "metadata": {},
     "output_type": "execute_result"
    }
   ],
   "source": [
    "particular_letter('Hello World')"
   ]
  },
  {
   "cell_type": "code",
   "execution_count": 7,
   "id": "d3fa942d",
   "metadata": {},
   "outputs": [
    {
     "data": {
      "text/plain": [
       "'It does not start with a particular letter'"
      ]
     },
     "execution_count": 7,
     "metadata": {},
     "output_type": "execute_result"
    }
   ],
   "source": [
    "particular_letter('Jinal Gupta')"
   ]
  },
  {
   "cell_type": "markdown",
   "id": "a4c5cc90",
   "metadata": {},
   "source": [
    "Sort a list of tuples having fruit names and their quantity. [(\"mango\",99),(\"orange\",80), (\"grapes\", 1000)]"
   ]
  },
  {
   "cell_type": "code",
   "execution_count": 8,
   "id": "57d8e093",
   "metadata": {},
   "outputs": [],
   "source": [
    "sorted_tuple  = lambda a : sorted(a, key = lambda x:x[1])"
   ]
  },
  {
   "cell_type": "code",
   "execution_count": 9,
   "id": "032e17af",
   "metadata": {},
   "outputs": [
    {
     "data": {
      "text/plain": [
       "[('orange', 80), ('mango', 99), ('grapes', 1000)]"
      ]
     },
     "execution_count": 9,
     "metadata": {},
     "output_type": "execute_result"
    }
   ],
   "source": [
    "sorted_tuple( [(\"mango\",99),(\"orange\",80), (\"grapes\", 1000)])"
   ]
  },
  {
   "cell_type": "markdown",
   "id": "8474abeb",
   "metadata": {},
   "source": [
    "Find the squares of numbers from 1 to 10."
   ]
  },
  {
   "cell_type": "code",
   "execution_count": 10,
   "id": "f4a789cc",
   "metadata": {},
   "outputs": [
    {
     "name": "stdout",
     "output_type": "stream",
     "text": [
      "1\n",
      "4\n",
      "9\n",
      "16\n",
      "25\n",
      "36\n",
      "49\n",
      "64\n",
      "81\n",
      "100\n"
     ]
    }
   ],
   "source": [
    "squares = lambda x :x*x\n",
    "for x in range(1,11):\n",
    "    print(squares(x))"
   ]
  },
  {
   "cell_type": "markdown",
   "id": "42c9f05e",
   "metadata": {},
   "source": [
    "Find the cube root of numbers from 1 to 10"
   ]
  },
  {
   "cell_type": "code",
   "execution_count": 11,
   "id": "bf9e7ff8",
   "metadata": {},
   "outputs": [
    {
     "name": "stdout",
     "output_type": "stream",
     "text": [
      "1\n",
      "8\n",
      "27\n",
      "64\n",
      "125\n",
      "216\n",
      "343\n",
      "512\n",
      "729\n",
      "1000\n"
     ]
    }
   ],
   "source": [
    "cubes = lambda x : x*x*x\n",
    "for x in range(1,11):\n",
    "    print(cubes(x))"
   ]
  },
  {
   "cell_type": "markdown",
   "id": "6d4c122a",
   "metadata": {},
   "source": [
    "Check if a given number is even."
   ]
  },
  {
   "cell_type": "code",
   "execution_count": 12,
   "id": "b7a2905a",
   "metadata": {},
   "outputs": [],
   "source": [
    "even = lambda x : \"It is an even number\" if x%2 == 0 else \"It is not an even number\""
   ]
  },
  {
   "cell_type": "code",
   "execution_count": 13,
   "id": "5857d87b",
   "metadata": {},
   "outputs": [
    {
     "data": {
      "text/plain": [
       "'It is an even number'"
      ]
     },
     "execution_count": 13,
     "metadata": {},
     "output_type": "execute_result"
    }
   ],
   "source": [
    "even(76)"
   ]
  },
  {
   "cell_type": "code",
   "execution_count": 14,
   "id": "6108fe8a",
   "metadata": {},
   "outputs": [
    {
     "data": {
      "text/plain": [
       "'It is not an even number'"
      ]
     },
     "execution_count": 14,
     "metadata": {},
     "output_type": "execute_result"
    }
   ],
   "source": [
    "even(99)"
   ]
  },
  {
   "cell_type": "markdown",
   "id": "4232cadd",
   "metadata": {},
   "source": [
    "Filter odd numbers from the given list."
   ]
  },
  {
   "cell_type": "code",
   "execution_count": 15,
   "id": "66da2ad8",
   "metadata": {},
   "outputs": [],
   "source": [
    "odd = lambda x: [num for num in x if num % 2 != 0 ]"
   ]
  },
  {
   "cell_type": "code",
   "execution_count": 16,
   "id": "4c9f1cb1",
   "metadata": {},
   "outputs": [
    {
     "data": {
      "text/plain": [
       "[827, 321, 77, 99, 45]"
      ]
     },
     "execution_count": 16,
     "metadata": {},
     "output_type": "execute_result"
    }
   ],
   "source": [
    "odd([827,321,456,77,98,99,45,34])"
   ]
  },
  {
   "cell_type": "markdown",
   "id": "94629155",
   "metadata": {},
   "source": [
    "Sort a list of integers into positive and negative integers lists"
   ]
  },
  {
   "cell_type": "code",
   "execution_count": 17,
   "id": "ec004fc4",
   "metadata": {},
   "outputs": [
    {
     "name": "stdout",
     "output_type": "stream",
     "text": [
      "Positive List: [8, 29, 2, 1, 8, 4]\n",
      "Negative List: [-98, -4, -3]\n"
     ]
    }
   ],
   "source": [
    "positive_list = []\n",
    "negative_list = []\n",
    "sort = lambda x: positive_list.append(x) if x > 0 else negative_list.append(x)\n",
    "numbers = [8,29,-98,-4,2,1,8,-3,4]\n",
    "for num in numbers:\n",
    "    sort(num)\n",
    "\n",
    "print(\"Positive List:\", positive_list)\n",
    "print(\"Negative List:\", negative_list)"
   ]
  },
  {
   "cell_type": "markdown",
   "id": "f1f66323",
   "metadata": {},
   "source": [
    "FILTER FUNCTION"
   ]
  },
  {
   "cell_type": "markdown",
   "id": "25bbc5b4",
   "metadata": {},
   "source": [
    "Check if the string starts with a particular letter"
   ]
  },
  {
   "cell_type": "code",
   "execution_count": 18,
   "id": "fb554e18",
   "metadata": {},
   "outputs": [
    {
     "name": "stdout",
     "output_type": "stream",
     "text": [
      "['Hello', 'Hi there']\n"
     ]
    }
   ],
   "source": [
    "my_strings = [\"Hello\", \"apple\", \"world\", \"Hi there\"]\n",
    "\n",
    "filtered_strings = list(filter(lambda a: a[0] in ['H', 'h'], my_strings))\n",
    "\n",
    "print(filtered_strings)"
   ]
  },
  {
   "cell_type": "markdown",
   "id": "ebf845a1",
   "metadata": {},
   "source": [
    "Filter odd numbers from the given list."
   ]
  },
  {
   "cell_type": "code",
   "execution_count": 19,
   "id": "d07e52ca",
   "metadata": {},
   "outputs": [
    {
     "name": "stdout",
     "output_type": "stream",
     "text": [
      "[1, 3, 5, 7, 9]\n"
     ]
    }
   ],
   "source": [
    "numbers = [1, 2, 3, 4, 5, 6, 7, 8, 9, 10]\n",
    "\n",
    "odd_numbers = list(filter(lambda x: x % 2 != 0, numbers))\n",
    "\n",
    "print(odd_numbers)"
   ]
  },
  {
   "cell_type": "markdown",
   "id": "7f507729",
   "metadata": {},
   "source": [
    "MAP FUNCTION"
   ]
  },
  {
   "cell_type": "markdown",
   "id": "158e1685",
   "metadata": {},
   "source": [
    "Check if the string starts with a particular letter"
   ]
  },
  {
   "cell_type": "code",
   "execution_count": 20,
   "id": "a5c81503",
   "metadata": {},
   "outputs": [
    {
     "name": "stdout",
     "output_type": "stream",
     "text": [
      "[True, False, False, True, False]\n"
     ]
    }
   ],
   "source": [
    "def starts_with_letter(s, letter):\n",
    "    return s.startswith(letter)\n",
    "\n",
    "strings = [\"apple\", \"banana\", \"cherry\", \"apricot\", \"blueberry\"]\n",
    "letter = 'a'\n",
    "\n",
    "\n",
    "result = map(lambda s: starts_with_letter(s, letter), strings)\n",
    "\n",
    "result_list = list(result)\n",
    "print(result_list)\n"
   ]
  },
  {
   "cell_type": "markdown",
   "id": "4644b6b4",
   "metadata": {},
   "source": [
    "Check if the string is numeric."
   ]
  },
  {
   "cell_type": "code",
   "execution_count": 21,
   "id": "717ccdad",
   "metadata": {},
   "outputs": [
    {
     "name": "stdout",
     "output_type": "stream",
     "text": [
      "[True, False, True, False, True, True]\n"
     ]
    }
   ],
   "source": [
    "strings = [\"123\", \"abc\", \"456\", \"78.9\", \"0\", \"10\"]\n",
    "\n",
    "\n",
    "result = map(str.isnumeric, strings)\n",
    "\n",
    "result_list = list(result)\n",
    "print(result_list)\n"
   ]
  },
  {
   "cell_type": "markdown",
   "id": "1fb68230",
   "metadata": {},
   "source": [
    "Sort a list of tuples having fruit names and their quantity. [(\"mango\",99),(\"orange\",80), (\"grapes\", 1000)]"
   ]
  },
  {
   "cell_type": "code",
   "execution_count": 22,
   "id": "73b72bac",
   "metadata": {},
   "outputs": [
    {
     "name": "stdout",
     "output_type": "stream",
     "text": [
      "[('orange', 80), ('mango', 99), ('grapes', 1000)]\n"
     ]
    }
   ],
   "source": [
    "fruits = [(\"mango\", 99), (\"orange\", 80), (\"grapes\", 1000)]\n",
    "\n",
    "quantities = list(map(lambda x: x[1], fruits))\n",
    "\n",
    "sorted_fruits = sorted(fruits, key=lambda x: x[1])\n",
    "\n",
    "print(sorted_fruits)\n"
   ]
  },
  {
   "cell_type": "markdown",
   "id": "bf183166",
   "metadata": {},
   "source": [
    "Find the squares of numbers from 1 to 10."
   ]
  },
  {
   "cell_type": "code",
   "execution_count": 23,
   "id": "c14744ac",
   "metadata": {},
   "outputs": [
    {
     "name": "stdout",
     "output_type": "stream",
     "text": [
      "[1, 4, 9, 16, 25, 36, 49, 64, 81, 100]\n"
     ]
    }
   ],
   "source": [
    "numbers = list(range(1, 11))\n",
    "\n",
    "squares = map(lambda x: x ** 2, numbers)\n",
    "\n",
    "squares_list = list(squares)\n",
    "print(squares_list)"
   ]
  },
  {
   "cell_type": "markdown",
   "id": "8c2c4c5c",
   "metadata": {},
   "source": [
    "Find the cube root of numbers from 1 to 1O."
   ]
  },
  {
   "cell_type": "code",
   "execution_count": 24,
   "id": "fcfe6aaf",
   "metadata": {},
   "outputs": [
    {
     "name": "stdout",
     "output_type": "stream",
     "text": [
      "[1.0, 1.2599210498948732, 1.4422495703074083, 1.5874010519681994, 1.7099759466766968, 1.8171205928321397, 1.912931182772389, 2.0, 2.080083823051904, 2.154434690031884]\n"
     ]
    }
   ],
   "source": [
    "numbers = list(range(1, 11))\n",
    "\n",
    "cube_roots = map(lambda x: x ** (1/3), numbers)\n",
    "\n",
    "cube_roots_list = list(cube_roots)\n",
    "print(cube_roots_list)"
   ]
  },
  {
   "cell_type": "markdown",
   "id": "1987049b",
   "metadata": {},
   "source": [
    "Sort a list of integers into positive and negative integers lists"
   ]
  },
  {
   "cell_type": "code",
   "execution_count": 25,
   "id": "188b1406",
   "metadata": {},
   "outputs": [
    {
     "name": "stdout",
     "output_type": "stream",
     "text": [
      "Positive numbers: [2, 4, 6, 8]\n",
      "Negative numbers: [-1, -3, -5, -7]\n"
     ]
    }
   ],
   "source": [
    "numbers = [-1, 2, -3, 4, -5, 6, -7, 8]\n",
    "\n",
    "positive_numbers = list(map(lambda x: x if x > 0 else None, numbers))\n",
    "negative_numbers = list(map(lambda x: x if x < 0 else None, numbers))\n",
    "\n",
    "positive_numbers = list(filter(lambda x: x is not None, positive_numbers))\n",
    "negative_numbers = list(filter(lambda x: x is not None, negative_numbers))\n",
    "\n",
    "print(\"Positive numbers:\", positive_numbers)\n",
    "print(\"Negative numbers:\", negative_numbers)"
   ]
  },
  {
   "cell_type": "markdown",
   "id": "2abbb7c1",
   "metadata": {},
   "source": [
    "List Comprehension"
   ]
  },
  {
   "cell_type": "markdown",
   "id": "61ddba97",
   "metadata": {},
   "source": [
    "Check if the string starts with a particular letter."
   ]
  },
  {
   "cell_type": "code",
   "execution_count": 26,
   "id": "0c5b7156",
   "metadata": {},
   "outputs": [
    {
     "name": "stdout",
     "output_type": "stream",
     "text": [
      "['apple']\n"
     ]
    }
   ],
   "source": [
    "strings = [\"apple\", \"banana\", \"cherry\", \"orange\"]\n",
    "\n",
    "start_letter = 'a'\n",
    "\n",
    "filtered_strings = [s for s in strings if s.startswith(start_letter)]\n",
    "\n",
    "print(filtered_strings)"
   ]
  },
  {
   "cell_type": "markdown",
   "id": "f764443e",
   "metadata": {},
   "source": [
    "Check if the string is numeric"
   ]
  },
  {
   "cell_type": "code",
   "execution_count": 27,
   "id": "d683294c",
   "metadata": {},
   "outputs": [
    {
     "name": "stdout",
     "output_type": "stream",
     "text": [
      "['123']\n"
     ]
    }
   ],
   "source": [
    "strings = [\"123\", \"45.6\", \"abc\", \"-7\", \"2+2\"]\n",
    "numeric_strings = [s for s in strings if s.isdigit()]\n",
    "\n",
    "print(numeric_strings)\n"
   ]
  },
  {
   "cell_type": "markdown",
   "id": "ca9400b7",
   "metadata": {},
   "source": [
    "Sort a list of tuples having fruit names and their quantity. [(\"mango\",99),(\"orange\",80), (\"grapes\", 1000)]"
   ]
  },
  {
   "cell_type": "code",
   "execution_count": 28,
   "id": "5a7cb041",
   "metadata": {},
   "outputs": [
    {
     "name": "stdout",
     "output_type": "stream",
     "text": [
      "[('orange', 80), ('mango', 99), ('grapes', 1000)]\n"
     ]
    }
   ],
   "source": [
    "fruits = [(\"mango\", 99), (\"orange\", 80), (\"grapes\", 1000)]\n",
    "sorted_fruits = sorted(fruits, key=lambda x: x[1])\n",
    "\n",
    "print(sorted_fruits)"
   ]
  },
  {
   "cell_type": "markdown",
   "id": "0d99df8e",
   "metadata": {},
   "source": [
    "Find the squares of numbers from 1 to 10."
   ]
  },
  {
   "cell_type": "code",
   "execution_count": 29,
   "id": "ae17df7e",
   "metadata": {},
   "outputs": [
    {
     "name": "stdout",
     "output_type": "stream",
     "text": [
      "[1, 4, 9, 16, 25, 36, 49, 64, 81, 100]\n"
     ]
    }
   ],
   "source": [
    "squares = [x**2 for x in range(1, 11)]\n",
    "\n",
    "print(squares)  \n"
   ]
  },
  {
   "cell_type": "markdown",
   "id": "61748438",
   "metadata": {},
   "source": [
    "Find the cube root of numbers from 1 to 1O."
   ]
  },
  {
   "cell_type": "code",
   "execution_count": 30,
   "id": "fe62d72d",
   "metadata": {},
   "outputs": [
    {
     "name": "stdout",
     "output_type": "stream",
     "text": [
      "[1, 8, 27, 64, 125, 216, 343, 512, 729, 1000]\n"
     ]
    }
   ],
   "source": [
    "cubes = [x**3 for x in range(1, 11)]\n",
    "\n",
    "print(cubes)  \n"
   ]
  },
  {
   "cell_type": "markdown",
   "id": "5784d447",
   "metadata": {},
   "source": [
    "Check if a given number is even."
   ]
  },
  {
   "cell_type": "code",
   "execution_count": 31,
   "id": "29354013",
   "metadata": {},
   "outputs": [
    {
     "name": "stdout",
     "output_type": "stream",
     "text": [
      "True\n"
     ]
    }
   ],
   "source": [
    "num = 10\n",
    "is_even = num % 2 == 0\n",
    "\n",
    "print(is_even) \n"
   ]
  },
  {
   "cell_type": "markdown",
   "id": "ad9b0928",
   "metadata": {},
   "source": [
    "Filter odd numbers from the given list."
   ]
  },
  {
   "cell_type": "code",
   "execution_count": 32,
   "id": "ae357e0b",
   "metadata": {},
   "outputs": [
    {
     "name": "stdout",
     "output_type": "stream",
     "text": [
      "[1, 3, 5, 7, 9]\n"
     ]
    }
   ],
   "source": [
    "numbers = [1, 2, 3, 4, 5, 6, 7, 8, 9, 10]\n",
    "\n",
    "odd_numbers = [num for num in numbers if num % 2 != 0]\n",
    "\n",
    "print(odd_numbers) \n"
   ]
  },
  {
   "cell_type": "markdown",
   "id": "1a6ce0d2",
   "metadata": {},
   "source": [
    "Sort a list of integers into positive and negative integers lists."
   ]
  },
  {
   "cell_type": "code",
   "execution_count": 33,
   "id": "6914d838",
   "metadata": {},
   "outputs": [
    {
     "name": "stdout",
     "output_type": "stream",
     "text": [
      "Positive numbers: [2, 5, 8]\n",
      "Negative numbers: [-3, -7, -1, -4]\n"
     ]
    }
   ],
   "source": [
    "numbers = [-3, 2, -7, 0, 5, -1, 8, -4]\n",
    "positive_numbers = [num for num in numbers if num > 0]\n",
    "negative_numbers = [num for num in numbers if num < 0]\n",
    "\n",
    "print(\"Positive numbers:\", positive_numbers)  \n",
    "print(\"Negative numbers:\", negative_numbers)  "
   ]
  }
 ],
 "metadata": {
  "kernelspec": {
   "display_name": "Python 3 (ipykernel)",
   "language": "python",
   "name": "python3"
  },
  "language_info": {
   "codemirror_mode": {
    "name": "ipython",
    "version": 3
   },
   "file_extension": ".py",
   "mimetype": "text/x-python",
   "name": "python",
   "nbconvert_exporter": "python",
   "pygments_lexer": "ipython3",
   "version": "3.10.9"
  }
 },
 "nbformat": 4,
 "nbformat_minor": 5
}
