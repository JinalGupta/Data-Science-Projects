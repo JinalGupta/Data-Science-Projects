{
 "cells": [
  {
   "cell_type": "markdown",
   "id": "412240cc",
   "metadata": {},
   "source": [
    "# ABSTRACTION"
   ]
  },
  {
   "cell_type": "code",
   "execution_count": 1,
   "id": "11307bb7",
   "metadata": {},
   "outputs": [],
   "source": [
    "import abc#abc - abstarct base classes\n",
    "class skills:\n",
    "    @abc.abstractmethod\n",
    "    def student_details(self):\n",
    "        pass\n",
    "    @abc.abstractmethod\n",
    "    def student_assignments(self):\n",
    "        pass\n",
    "    @abc.abstractmethod\n",
    "    def student_marks(self):\n",
    "        pass"
   ]
  },
  {
   "cell_type": "code",
   "execution_count": 2,
   "id": "581ca685",
   "metadata": {},
   "outputs": [],
   "source": [
    "class student_details(skills):\n",
    "    def student_details(self):\n",
    "        return \"This is a meth for taking students details\"\n",
    "    def student_assignments(self):\n",
    "        return \"This is a meth for assigning details for a particular student\"\n",
    "\n",
    "class data_science(skills):\n",
    "    def student_details(self):\n",
    "        return \"This will return a students detail for the course data science\"\n",
    "    def student_assignments(skills):\n",
    "        return \"This will give you a student assignmen for data science course\""
   ]
  },
  {
   "cell_type": "code",
   "execution_count": 3,
   "id": "6c8d7da4",
   "metadata": {},
   "outputs": [],
   "source": [
    "dsc = data_science()"
   ]
  },
  {
   "cell_type": "code",
   "execution_count": 4,
   "id": "d65cba5c",
   "metadata": {},
   "outputs": [
    {
     "data": {
      "text/plain": [
       "'This will return a students detail for the course data science'"
      ]
     },
     "execution_count": 4,
     "metadata": {},
     "output_type": "execute_result"
    }
   ],
   "source": [
    "dsc.student_details()"
   ]
  },
  {
   "cell_type": "code",
   "execution_count": 5,
   "id": "aadba755",
   "metadata": {},
   "outputs": [
    {
     "data": {
      "text/plain": [
       "'This will return a students detail for the course data science'"
      ]
     },
     "execution_count": 5,
     "metadata": {},
     "output_type": "execute_result"
    }
   ],
   "source": [
    "dsc.student_details()"
   ]
  },
  {
   "cell_type": "code",
   "execution_count": 7,
   "id": "b57cb6e9",
   "metadata": {},
   "outputs": [],
   "source": [
    "dsc.student_marks()"
   ]
  }
 ],
 "metadata": {
  "kernelspec": {
   "display_name": "Python 3 (ipykernel)",
   "language": "python",
   "name": "python3"
  },
  "language_info": {
   "codemirror_mode": {
    "name": "ipython",
    "version": 3
   },
   "file_extension": ".py",
   "mimetype": "text/x-python",
   "name": "python",
   "nbconvert_exporter": "python",
   "pygments_lexer": "ipython3",
   "version": "3.10.9"
  }
 },
 "nbformat": 4,
 "nbformat_minor": 5
}
